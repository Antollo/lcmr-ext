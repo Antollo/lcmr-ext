{
 "cells": [
  {
   "cell_type": "code",
   "execution_count": 1,
   "metadata": {},
   "outputs": [],
   "source": [
    "import torch\n",
    "import numpy as np\n",
    "from lcmr.grammar import Scene\n",
    "from lcmr.renderer import OpenGLRenderer2D\n",
    "from lcmr_ext.renderer.renderer2d import PyDiffVgRenderer2D, PyTorch3DRenderer2D\n",
    "from lcmr.utils.presentation import display_img\n",
    "\n",
    "device = torch.device(\"cuda:0\") if torch.cuda.is_available() else torch.device(\"cpu\")"
   ]
  },
  {
   "cell_type": "code",
   "execution_count": 2,
   "metadata": {},
   "outputs": [],
   "source": [
    "translation = torch.tensor([[0, 0], [0, 1], [1, 0]], dtype=torch.float32)[None, None, ...]\n",
    "color = torch.tensor([[0.9, 0, 0], [0, 0.9, 0], [0, 0, 0.9]], dtype=torch.float32)[None, None, ...]\n",
    "scale = torch.tensor([[0.1, 0.5], [0.1, 0.1], [0.2, 0.2]])[None, None, ...]\n",
    "confidence = torch.tensor([[0.9], [0.5], [0.2]])[None, None, ...]\n",
    "angle = torch.tensor([[-np.pi / 4], [0], [0]], dtype=torch.float32)[None, None, ...]\n",
    "example_scene = Scene.from_tensors(translation=translation, scale=scale, color=color, confidence=confidence, angle=angle)"
   ]
  },
  {
   "cell_type": "code",
   "execution_count": 3,
   "metadata": {},
   "outputs": [
    {
     "data": {
      "image/png": "[encoded data removed]",
      "text/plain": [
       "<PIL.Image.Image image mode=RGB size=256x128>"
      ]
     },
     "metadata": {},
     "output_type": "display_data"
    },
    {
     "data": {
      "image/png": "[encoded data removed]",
      "text/plain": [
       "<PIL.Image.Image image mode=RGB size=256x128>"
      ]
     },
     "metadata": {},
     "output_type": "display_data"
    },
    {
     "data": {
      "image/png": "[encoded data removed]",
      "text/plain": [
       "<PIL.Image.Image image mode=RGB size=256x128>"
      ]
     },
     "metadata": {},
     "output_type": "display_data"
    },
    {
     "data": {
      "image/png": "[encoded data removed]",
      "text/plain": [
       "<PIL.Image.Image image mode=RGB size=256x128>"
      ]
     },
     "metadata": {},
     "output_type": "display_data"
    }
   ],
   "source": [
    "renderer = OpenGLRenderer2D((128, 256), background_color=torch.tensor([0.0, 0.0, 0.0, 1.0]), gamma_rgb=1.2, gamma_confidence=2.5)\n",
    "display_img(renderer.render(example_scene)[0])\n",
    "\n",
    "renderer = PyDiffVgRenderer2D((128, 256), background_color=torch.tensor([0.0, 0.0, 0.0, 1.0]), device=device)\n",
    "display_img(renderer.render(example_scene.to(renderer.device))[0])\n",
    "\n",
    "renderer = PyTorch3DRenderer2D((128, 256), background_color=torch.tensor([0.0, 0.0, 0.0, 1.0]), device=device)\n",
    "display_img(renderer.render(example_scene.to(renderer.device))[0])\n",
    "display_img(renderer.render(example_scene.to(renderer.device), with_alpha=False)[0])"
   ]
  }
 ],
 "metadata": {
  "kernelspec": {
   "display_name": "Python 3",
   "language": "python",
   "name": "python3"
  },
  "language_info": {
   "codemirror_mode": {
    "name": "ipython",
    "version": 3
   },
   "file_extension": ".py",
   "mimetype": "text/x-python",
   "name": "python",
   "nbconvert_exporter": "python",
   "pygments_lexer": "ipython3",
   "version": "3.9.13"
  }
 },
 "nbformat": 4,
 "nbformat_minor": 2
}
